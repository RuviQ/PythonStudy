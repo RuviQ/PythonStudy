{
 "cells": [
  {
   "cell_type": "markdown",
   "metadata": {},
   "source": [
    "REVERSE STRING\n",
    "Take an input string and reverse the string\n",
    "Better if you can do it in one line\n",
    "Example:\n",
    "\n",
    "Input: Beast\n",
    "Expected: tseaB"
   ]
  },
  {
   "cell_type": "code",
   "execution_count": 43,
   "metadata": {},
   "outputs": [
    {
     "name": "stdout",
     "output_type": "stream",
     "text": [
      "tsaeB\n"
     ]
    }
   ],
   "source": [
    "mr = \"Beast\"\n",
    "print(mr[::-1])"
   ]
  },
  {
   "cell_type": "markdown",
   "metadata": {},
   "source": [
    "PERFECT SQUARE\n",
    "Given a number, identify if it is a perfect square or not\n",
    "Example:\n",
    "\n",
    "Input: 81\n",
    "Expected: 81 is a perfect square\n",
    "\n",
    "Input: 5\n",
    "Expected: is NOT a perfect square"
   ]
  },
  {
   "cell_type": "code",
   "execution_count": 50,
   "metadata": {},
   "outputs": [
    {
     "name": "stdout",
     "output_type": "stream",
     "text": [
      "81 is a perfect square\n"
     ]
    }
   ],
   "source": [
    "x = int(input(\"Input: \"))\n",
    "i = 1\n",
    "\n",
    "while i <= x:\n",
    "    if x / i == i:\n",
    "        print(str(x) + \" is a perfect square\")\n",
    "        break\n",
    "    i += 1\n",
    "if x / i != i:\n",
    "    print(str(x) + \" is NOT a perfect square\")\n"
   ]
  },
  {
   "cell_type": "markdown",
   "metadata": {},
   "source": [
    "XOR operation\n",
    "\n",
    "Given two 4-bit inputs, return the XOR result\n",
    "\n",
    "Example:\n",
    "Input 1: 1001\n",
    "Input 2: 1000\n",
    "Expected: 0001"
   ]
  },
  {
   "cell_type": "code",
   "execution_count": 52,
   "metadata": {},
   "outputs": [
    {
     "name": "stdout",
     "output_type": "stream",
     "text": [
      "0001\n"
     ]
    }
   ],
   "source": [
    "x = str(input(\"Input 1: \"))\n",
    "y = str(input(\"Input 2: \"))\n",
    "result = \"\"\n",
    "\n",
    "for i in range(4):\n",
    "    if x[i] == y[i]:\n",
    "        result += \"0\"\n",
    "    else:\n",
    "        result += \"1\"\n",
    "print(result)"
   ]
  },
  {
   "cell_type": "markdown",
   "metadata": {},
   "source": [
    "ELEMENT SEARCH\n",
    "\n",
    "Given a sorted list of positive integers and an input x, find if x is in the array\n",
    "Print the given element if found, -1 if not found\n",
    "\n",
    "Bonus points if you can write an algorithm that is O(log n)\n",
    "\n",
    "Example:\n",
    "List: [1,2,3,4,5,6,7,8]\n",
    "x: 8\n",
    "Expected: 8\n",
    "\n",
    "List: [2,4,5,6,9,11,13,20]\n",
    "x: 8\n",
    "Expected: -1"
   ]
  },
  {
   "cell_type": "code",
   "execution_count": 89,
   "metadata": {},
   "outputs": [
    {
     "name": "stdout",
     "output_type": "stream",
     "text": [
      "-1\n",
      "11\n"
     ]
    }
   ],
   "source": [
    "set1 = [1,2,3,4,5,6,7,8]\n",
    "set2 = [2,4,5,6,9,11,13,20]\n",
    "\n",
    "x = 11\n",
    "\n",
    "for i in range(len(set1)):\n",
    "    if set1[i] == x:\n",
    "        print(x)\n",
    "        break\n",
    "    if (i+1) == len(set1):\n",
    "        print(-1)\n",
    "\n",
    "for i in range(len(set2)):\n",
    "    if set2[i] == x:\n",
    "        print(x)\n",
    "        break\n",
    "    if (i+1) == len(set2):\n",
    "        print(-1)"
   ]
  }
 ],
 "metadata": {
  "kernelspec": {
   "display_name": "myenv",
   "language": "python",
   "name": "python3"
  },
  "language_info": {
   "codemirror_mode": {
    "name": "ipython",
    "version": 3
   },
   "file_extension": ".py",
   "mimetype": "text/x-python",
   "name": "python",
   "nbconvert_exporter": "python",
   "pygments_lexer": "ipython3",
   "version": "3.13.1"
  }
 },
 "nbformat": 4,
 "nbformat_minor": 2
}
