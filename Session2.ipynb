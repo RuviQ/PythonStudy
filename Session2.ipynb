{
 "cells": [
  {
   "cell_type": "markdown",
   "metadata": {},
   "source": [
    "CONTAINS DUPLICATE\n",
    "\n",
    "Given an integer array nums, return true if any value appears at least twice in the array, and return false if every element is distinct.\n",
    "\n",
    "Example 1:\n",
    "\n",
    "Input: nums = [1,2,3,1]\n",
    "Output: true\n",
    "\n",
    "Input: nums = [1,2,3,4]\n",
    "Output: false"
   ]
  },
  {
   "cell_type": "code",
   "execution_count": 22,
   "metadata": {},
   "outputs": [
    {
     "name": "stdout",
     "output_type": "stream",
     "text": [
      "true\n",
      "false\n"
     ]
    }
   ],
   "source": [
    "from collections import defaultdict\n",
    "hashmap = defaultdict(int)\n",
    "\n",
    "arr1 = [1,2,3,1]\n",
    "arr2 = [1,2,3,4]\n",
    "\n",
    "duplicate = False\n",
    "\n",
    "for num in arr1:\n",
    "    if num in hashmap:\n",
    "        duplicate = True\n",
    "        break\n",
    "    hashmap[num]\n",
    "if duplicate:\n",
    "    print(\"true\")\n",
    "else:\n",
    "    print(\"false\")\n",
    "\n",
    "hashmap.clear()\n",
    "duplicate = False\n",
    "\n",
    "for num in arr2:\n",
    "    if num in hashmap:\n",
    "        duplicate = True\n",
    "        break\n",
    "    hashmap[num]\n",
    "if duplicate:\n",
    "    print(\"true\")\n",
    "else:\n",
    "    print(\"false\")"
   ]
  },
  {
   "cell_type": "markdown",
   "metadata": {},
   "source": [
    "RECURSIVE SUM\n",
    "\n",
    "Write a program that includes a recursive function that takes an integer n then sums all numbers from 1 to n. Print the sum after.\n",
    "\n",
    "Example:\n",
    "\n",
    "Enter a number: 10\n",
    "Sum: 55\n",
    "\n",
    "Enter a number: 5\n",
    "Sum: 15"
   ]
  },
  {
   "cell_type": "code",
   "execution_count": 23,
   "metadata": {},
   "outputs": [
    {
     "name": "stdout",
     "output_type": "stream",
     "text": [
      "55\n",
      "15\n"
     ]
    }
   ],
   "source": [
    "def add(num):\n",
    "    if num <= 1:\n",
    "        return num\n",
    "    return num + add(num-1)\n",
    "\n",
    "print(add(10))\n",
    "print(add(5))"
   ]
  }
 ],
 "metadata": {
  "kernelspec": {
   "display_name": "myenv",
   "language": "python",
   "name": "python3"
  },
  "language_info": {
   "codemirror_mode": {
    "name": "ipython",
    "version": 3
   },
   "file_extension": ".py",
   "mimetype": "text/x-python",
   "name": "python",
   "nbconvert_exporter": "python",
   "pygments_lexer": "ipython3",
   "version": "3.13.1"
  }
 },
 "nbformat": 4,
 "nbformat_minor": 2
}
